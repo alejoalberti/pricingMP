{
 "cells": [
  {
   "cell_type": "markdown",
   "metadata": {},
   "source": [
    "# Algoritmo de cálculo de pricing de MP"
   ]
  },
  {
   "cell_type": "markdown",
   "metadata": {},
   "source": [
    "## Modelo flexible basado en multiplicidad de parámetros y factores:  \n",
    "1- funcionalidades provistas al cliente  \n",
    "2- tipos de instrumentos utilizados  \n",
    "3- cantidad de instrumentos utilizados  \n",
    "4- cantidad de operaciones realizadas  \n",
    "5- cantidad de carteras bajo administración  \n",
    "6- cantidad de cuentas (monetarias, custodias, cuotapartistas, de inversión) empleadas  \n",
    "7- cantidad de usuarios que podrían acceder (eventualmente también si tendrán diferentes roles)  \n",
    "8- valor neto bajo administración (NAV)  "
   ]
  },
  {
   "cell_type": "markdown",
   "metadata": {},
   "source": [
    "### Switchs para definir el uso de factores.  \n",
    "Es posible habilitar o deshabilitar algunos de los factores para\n",
    "considerarlos o ignorarlos en el modelo, según el nivel de complejidad\n",
    "deseado. El orden en el que se introducen es el definido en la lista de\n",
    "arriba:"
   ]
  },
  {
   "cell_type": "code",
   "execution_count": 2,
   "metadata": {},
   "outputs": [],
   "source": [
    "flag_func = 1 # funcionalidades\n",
    "flag_instTypes = 1 # tipos de instrumentos\n",
    "flag_instQty = 1 # cantidad de instrumentos\n",
    "flag_ops = 1 # cantidad de operaciones\n",
    "flag_ncart = 1 # cantidad de carteras\n",
    "flag_nctas = 1 # cantidad de cuentas\n",
    "flag_nusrs = 1 # cantidad de usuarios\n",
    "flag_nav = 1 # NAV\n",
    "flags_factores = [flag_func, flag_instTypes, flag_instQty, flag_ops, flag_ncart, flag_nctas, flag_nusrs, flag_nav]\n",
    "\n",
    "import numpy as np\n",
    "import matplotlib.pyplot as plt"
   ]
  },
  {
   "cell_type": "markdown",
   "metadata": {},
   "source": [
    "### Parámetros para simular un caso.  \n",
    "Definir alguno como NaN si no se desea especificar su valor en esta instancia (se usarán valores por default cargados más abajo)."
   ]
  },
  {
   "cell_type": "code",
   "execution_count": 3,
   "metadata": {},
   "outputs": [],
   "source": [
    "tf = 1 # tier de funcionalidades \n",
    "tit = 1 # tier de tipos de instrumentos\n",
    "ni = 120 # cantidad de instrumentos en uso\n",
    "no = 240 # cantidad de operaciones realizadas\n",
    "nc = 3 # cantidad de carteras\n",
    "# cantidades de cuentas en uso\n",
    "ncmo = 2 # monetarias\n",
    "nccs = 2 # custodias\n",
    "ncct = 2 # cuotapartistas\n",
    "ncci = 5 # de inversión\n",
    "# cantidades de usuarios habilitados\n",
    "nuf = 1 # front\n",
    "nub = 1 # back\n",
    "nus = 1 # superuser\n",
    "nav = 10.54 # NAV bajo administración, en millones\n",
    "\n",
    "params = [tf, tit, ni, no, nc, ncmo, nccs, ncct, ncci, nuf, nub, nus, nav]\n",
    "cant_cont_flag = 1 # considerar método continuo para el pricing por cantidad de instrumentos\n",
    "ops_cont_flag = 1 # considerar método continuo para el pricing por cantidad de operaciones"
   ]
  },
  {
   "cell_type": "markdown",
   "metadata": {},
   "source": [
    "### 1- funcionalidades provistas al cliente\n",
    "Se separan en 3 niveles, de básicas a avanzadas."
   ]
  },
  {
   "cell_type": "code",
   "execution_count": 4,
   "metadata": {},
   "outputs": [],
   "source": [
    "if flags_factores[0] == 1:\n",
    "    if np.isnan(params[0]) == 0:\n",
    "        tier_func = params[0]\n",
    "    else:\n",
    "        tier_func = 1 # {1, 2, 3}\n",
    "\n",
    "    precios_func = [500, 1000, 1350] # misma cantidad de elementos que el conjunto de tier_func\n",
    "\n",
    "    P_func = precios_func[tier_func]\n",
    "else:\n",
    "    P_func = 0"
   ]
  },
  {
   "cell_type": "markdown",
   "metadata": {},
   "source": [
    "### 2- tipos de instrumentos utilizados\n",
    "Se separan en 3 niveles, de básicos a avanzados"
   ]
  },
  {
   "cell_type": "code",
   "execution_count": 5,
   "metadata": {},
   "outputs": [],
   "source": [
    "if flags_factores[1] == 1:\n",
    "    if np.isnan(params[1]) == 0:\n",
    "        tier_instrumTypes = params[1]\n",
    "    else:\n",
    "        tier_instrumTypes = 1 # {1, 2, 3}\n",
    "\n",
    "    precios_instrumTypes = [300, 600, 900] # misma cantidad de elementos que el conjunto de tier_instrum\n",
    "\n",
    "    P_instrumTypes = precios_instrumTypes[tier_instrumTypes]\n",
    "else:\n",
    "    P_instrumTypes = 0"
   ]
  },
  {
   "cell_type": "markdown",
   "metadata": {},
   "source": [
    "### 3- cantidad de instrumentos utilizados\n",
    "Listar los instrumentos operados, list_ops  \n",
    "Listar los instrumentos que estuvieron en cartera (podrían\n",
    "no haber sido operados en el último periodo y preexistir), list_cartera  \n",
    "Listar los instrumentos parametrizados, list_param  \n",
    "Ninguno de los conjuntos necesariamente contiene a los otros. Lo correcto\n",
    "es hacer la unión de los tres conjuntos. La cantidad de elementos resultante es n_instr  "
   ]
  },
  {
   "cell_type": "code",
   "execution_count": 9,
   "metadata": {},
   "outputs": [
    {
     "data": {
      "text/plain": [
       "[<matplotlib.lines.Line2D at 0xb54a8b1088>]"
      ]
     },
     "execution_count": 9,
     "metadata": {},
     "output_type": "execute_result"
    },
    {
     "data": {
      "image/png": "[encoded data removed]",
      "text/plain": [
       "<Figure size 432x288 with 1 Axes>"
      ]
     },
     "metadata": {
      "needs_background": "light"
     },
     "output_type": "display_data"
    }
   ],
   "source": [
    "if flags_factores[2] == 1:\n",
    "    if np.isnan(params[2]) == 0:\n",
    "        n_instr = params[2]\n",
    "    else:\n",
    "        n_instr = 120\n",
    "\n",
    "    # calibraciones\n",
    "    # parámetros para la calibración de la función continua de precio\n",
    "    k_n_instr = 12 # ponderador global\n",
    "    offset_n_instr = 0 # offset de log\n",
    "    multipl_n_instr = 0.1 # multiplicador del número de instrumentos\n",
    "    # parámetros para la calibración de la función discreta de precio\n",
    "    tiers_instrumQty = [0, 50, 200, 500, 1000]\n",
    "    precios_instrumQty = [0, 10, 35, 40, 50]\n",
    "        \n",
    "    if cant_cont_flag == 1: # considerar método continuo para el pricing por cantidad de instrumentos\n",
    "        \n",
    "        P_instrumQty = k_n_instr * np.log(multipl_n_instr * n_instr + offset_n_instr)\n",
    "    else: # método discreto (tiers)\n",
    "        tier_n_instr_idx = 1\n",
    "\n",
    "        while n_instr > tiers_instrumQty(tier_n_instr_idx):\n",
    "            tier_n_instr_idx = tier_n_instr_idx + 1\n",
    "            if tier_n_instr_idx > numel(tiers_instrumQty): break\n",
    "\n",
    "        tier_n_instr_idx = tier_idx-1\n",
    "\n",
    "        P_instrumQty = precios_instrumQty(tier_n_instr_idx)\n",
    "else:\n",
    "    P_instrumQty = 0\n",
    "\n",
    "# gráfica comparativa de los resultados por pricing continuo, discreto\n",
    "vxlog = np.arange(10,1001,10)\n",
    "vylog = k_n_instr * np.log(multipl_n_instr * vxlog + offset_n_instr)\n",
    "tiers_instrumQtyAux = [0, 49, 50, 199, 200, 499, 500, 999, 1000]\n",
    "precios_instrumQtyAux = [0, 0, 10, 10, 35, 35, 40, 40, 50]\n",
    "vxdisc = tiers_instrumQty\n",
    "vydisc = precios_instrumQty\n",
    "\n",
    "plt.plot(vxlog, vylog)\n",
    "plt.plot(vxdisc, vydisc)"
   ]
  },
  {
   "cell_type": "markdown",
   "metadata": {},
   "source": [
    "### 4- cantidad de operaciones realizadas"
   ]
  },
  {
   "cell_type": "code",
   "execution_count": 10,
   "metadata": {},
   "outputs": [
    {
     "data": {
      "text/plain": [
       "[<matplotlib.lines.Line2D at 0xb54a924488>]"
      ]
     },
     "execution_count": 10,
     "metadata": {},
     "output_type": "execute_result"
    },
    {
     "data": {
      "image/png": "[encoded data removed]",
      "text/plain": [
       "<Figure size 432x288 with 1 Axes>"
      ]
     },
     "metadata": {
      "needs_background": "light"
     },
     "output_type": "display_data"
    }
   ],
   "source": [
    "if flags_factores[3] == 1:\n",
    "    if np.isnan(params[3]) == 0:\n",
    "        n_ops = params[3]\n",
    "    else:\n",
    "        n_ops = 240\n",
    "\n",
    "    # calibraciones\n",
    "    # parámetros para la calibración de la función continua de precio\n",
    "    k_n_ops = 20 # ponderador global\n",
    "    offset_n_ops = 0 # offset de log\n",
    "    multipl_n_ops = 1 # multiplicador del número de operaciones\n",
    "    # parámetros para la calibración de la función discreta de precio\n",
    "    tiers_ops = [0, 15, 30, 60, 120]\n",
    "    precios_ops = [0, 20, 35, 60, 100]\n",
    "        \n",
    "    if ops_cont_flag == 1: # considerar método continuo para el pricing por cantidad de operaciones\n",
    "        P_ops = k_n_ops * np.log(multipl_n_ops * n_ops + offset_n_ops)\n",
    "    else: # método discreto (tiers)\n",
    "        tier_n_ops_idx = 1\n",
    "\n",
    "        while n_ops > tiers_ops(tier_n_ops_idx):\n",
    "            tier_n_ops_idx = tier_n_ops_idx+1\n",
    "            if tier_n_ops_idx > np.size(tiers_ops): break\n",
    "\n",
    "        tier_n_ops_idx = tier_n_ops_idx-1\n",
    "\n",
    "        P_ops = precios_ops(tier_n_ops_idx)\n",
    "else:\n",
    "    P_ops = 0\n",
    "\n",
    "# gráfica comparativa de los resultados por pricing continuo, discreto\n",
    "vxxlog = np.arange(1,122,1)\n",
    "vyylog = k_n_ops * np.log(multipl_n_ops * vxxlog + offset_n_ops)\n",
    "tiers_opsAux = [0, 14, 15, 29, 30, 59, 60, 119, 120]\n",
    "precios_opsAux = [0, 0, 20, 20, 35, 35, 60, 60, 100]\n",
    "vxxdisc = tiers_ops\n",
    "vyydisc = precios_ops\n",
    "\n",
    "plt.plot(vxxlog, vyylog)\n",
    "plt.plot(vxxdisc, vyydisc)"
   ]
  },
  {
   "cell_type": "markdown",
   "metadata": {},
   "source": [
    "## 5- cantidad de carteras bajo administración\n",
    "Según la cantidad en uso el cliente caerá en un tier determinado."
   ]
  },
  {
   "cell_type": "code",
   "execution_count": 11,
   "metadata": {},
   "outputs": [],
   "source": [
    "if flags_factores[4] == 1:\n",
    "    if np.isnan(params[4]) == 0:\n",
    "        n_carteras = params[4]\n",
    "    else:\n",
    "        n_carteras = 3\n",
    "\n",
    "    tiers_carteras = [0, 2, 5, 10, 25]\n",
    "    precios_carteras = [0, 100, 200, 350, 700]\n",
    "    tier_carteras_idx = 0\n",
    "\n",
    "    while n_carteras > tiers_carteras[tier_carteras_idx]:\n",
    "        tier_carteras_idx = tier_carteras_idx+1\n",
    "        if tier_carteras_idx > np.size(tiers_carteras): break\n",
    "\n",
    "    tier_carteras_idx = tier_carteras_idx-1\n",
    "\n",
    "    P_carteras = precios_carteras[tier_carteras_idx]\n",
    "else:\n",
    "    P_carteras = 0"
   ]
  },
  {
   "cell_type": "markdown",
   "metadata": {},
   "source": [
    "### 6- cantidad de cuentas (monetarias, custodias, cuotapartistas, de inversión) empleadas\n",
    "El producto de base puede considerar una cantidad predeterminada de cuentas, por default (digamos, 2 de cada tipo). El cobro extra ocurre\n",
    "cuando la cantidad de cuentas de algún tipo excede la cantidad de default."
   ]
  },
  {
   "cell_type": "code",
   "execution_count": 12,
   "metadata": {},
   "outputs": [],
   "source": [
    "if flags_factores[5] == 1:\n",
    "    # Valores de default\n",
    "    n_ctas_monet_def = 2\n",
    "    n_ctas_cust_def = 2\n",
    "    n_ctas_cuotap_def = 2\n",
    "    n_ctas_inv_def = 2\n",
    "    n_ctas_def = np.array([n_ctas_monet_def, n_ctas_cust_def, n_ctas_cuotap_def, n_ctas_inv_def])\n",
    "    \n",
    "    # En uso\n",
    "    if np.isnan(params[5]) == 0: # asumo que las cantidades de cuentas fueron o bien todas definidas, o bien ninguna\n",
    "        n_ctas_monet = params[5]\n",
    "        n_ctas_cust = params[6]\n",
    "        n_ctas_cuotap = params[7]\n",
    "        n_ctas_inv = params[8]\n",
    "    else:\n",
    "        n_ctas_monet_def = 2\n",
    "        n_ctas_cust_def = 2\n",
    "        n_ctas_cuotap_def = 2\n",
    "        n_ctas_inv_def = 5\n",
    "    n_ctas = np.array([n_ctas_monet, n_ctas_cust, n_ctas_cuotap, n_ctas_inv])\n",
    "\n",
    "    dif_cuentas = n_ctas - n_ctas_def\n",
    "    dif_cuentas = [0 if i < 0 else i for i in dif_cuentas] # anular valores negativos (si hay menos cuentas en uso que las que la suscripción ofrece)\n",
    "    n_cuentas_extra = np.sum(dif_cuentas)\n",
    "        \n",
    "    p_cta_extra = 12.5 # precio por cada cuenta extra\n",
    "\n",
    "    P_cuentas = p_cta_extra * n_cuentas_extra\n",
    "else:\n",
    "    P_cuentas = 0"
   ]
  },
  {
   "cell_type": "markdown",
   "metadata": {},
   "source": [
    "### 7- cantidad de usuarios que podrían acceder (eventualmente también si tendrán diferentes roles)\n",
    "El producto de base puede considerar una cantidad predeterminada de usuarios, por default (digamos, 3: un front, un back, un superuser). El cobro extra ocurre cuando la cantidad de accesos de algun tipo excede la cantidad de default."
   ]
  },
  {
   "cell_type": "code",
   "execution_count": 13,
   "metadata": {},
   "outputs": [],
   "source": [
    "if flags_factores[6] == 1:\n",
    "    # Valores de default\n",
    "    n_front_def = 1\n",
    "    n_back_def = 1\n",
    "    n_su_def = 1\n",
    "    n_usr_def = np.array([n_front_def, n_back_def, n_su_def])\n",
    "    \n",
    "    # En uso\n",
    "    if np.isnan(params[9]) == 0: # asumo que las cantidades de usuarios fueron o bien todas definidas, o bien ninguna\n",
    "        n_front = params[9]\n",
    "        n_back = params[10]\n",
    "        n_su = params[11]\n",
    "    else:\n",
    "        n_front_def = 1\n",
    "        n_back_def = 1\n",
    "        n_su_def = 1\n",
    "    n_usr = np.array([n_front, n_back, n_su])\n",
    "    \n",
    "    p_user_extra = 55 # precio de cada usuario extra\n",
    "\n",
    "    dif_users = n_usr - n_usr_def\n",
    "    dif_users = [0 if i < 0 else i for i in dif_users] # anular valores negativos (si hay menos users en uso que los que la suscripción ofrece)\n",
    "    n_users_extra = np.sum(dif_users)\n",
    "\n",
    "    P_users = p_user_extra * n_users_extra\n",
    "else:\n",
    "    P_users = 0"
   ]
  },
  {
   "cell_type": "markdown",
   "metadata": {},
   "source": [
    "### 8- valor neto bajo administración (NAV)\n",
    "Entra como un factor multiplicativo sobre el resto del pricing.  \n",
    "Se considera el valor prorrateado sobre todos los días del período."
   ]
  },
  {
   "cell_type": "code",
   "execution_count": 22,
   "metadata": {},
   "outputs": [
    {
     "data": {
      "text/plain": [
       "1.0025"
      ]
     },
     "execution_count": 22,
     "metadata": {},
     "output_type": "execute_result"
    }
   ],
   "source": [
    "if flags_factores[7] == 1:\n",
    "    if np.isnan(params[12]) == 0:\n",
    "        NAV_mill = params[12]\n",
    "    else:\n",
    "        NAV_mill = 59.78 # en millones, para simplificar la escritura\n",
    "\n",
    "    NAV = NAV_mill * 1000000\n",
    "    tiers_NAVs = np.array([1, 5, 10, 50, 100, 200]) * 1000000\n",
    "    fact_NAVs = [1, 1.001, 1.0025, 1.005, 1.01, 1.0125]\n",
    "    tier_NAVs_idx = 0\n",
    "\n",
    "    while NAV > tiers_NAVs[tier_NAVs_idx]:\n",
    "        tier_NAVs_idx = tier_NAVs_idx + 1\n",
    "        if tier_NAVs_idx > np.size(tiers_NAVs): break\n",
    "\n",
    "    tier_NAVs_idx = tier_NAVs_idx - 1\n",
    "\n",
    "    k_NAV = fact_NAVs[tier_NAVs_idx]\n",
    "else:\n",
    "    k_NAV = 1"
   ]
  },
  {
   "cell_type": "markdown",
   "metadata": {},
   "source": [
    "### Pricing total"
   ]
  },
  {
   "cell_type": "code",
   "execution_count": 23,
   "metadata": {},
   "outputs": [],
   "source": [
    "P = k_NAV * (P_func + P_instrumTypes + P_instrumQty + P_ops + P_carteras + P_cuentas + P_users)"
   ]
  },
  {
   "cell_type": "code",
   "execution_count": 24,
   "metadata": {},
   "outputs": [
    {
     "data": {
      "text/plain": [
       "1881.6239874099565"
      ]
     },
     "execution_count": 24,
     "metadata": {},
     "output_type": "execute_result"
    }
   ],
   "source": [
    "P"
   ]
  },
  {
   "cell_type": "code",
   "execution_count": null,
   "metadata": {},
   "outputs": [],
   "source": []
  }
 ],
 "metadata": {
  "kernelspec": {
   "display_name": "Python 3",
   "language": "python",
   "name": "python3"
  },
  "language_info": {
   "codemirror_mode": {
    "name": "ipython",
    "version": 3
   },
   "file_extension": ".py",
   "mimetype": "text/x-python",
   "name": "python",
   "nbconvert_exporter": "python",
   "pygments_lexer": "ipython3",
   "version": "3.7.4"
  }
 },
 "nbformat": 4,
 "nbformat_minor": 2
}
